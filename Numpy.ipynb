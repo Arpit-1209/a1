{
 "cells": [
  {
   "cell_type": "code",
   "execution_count": null,
   "id": "7334601a-6820-4458-bf9f-306951a25de3",
   "metadata": {},
   "outputs": [],
   "source": [
    "#(Ans1)\n",
    "import numpy as np\n",
    "arr = np.arange(6)\n",
    "print(arr.dtype)\n"
   ]
  },
  {
   "cell_type": "code",
   "execution_count": null,
   "id": "bd3dca89-065e-4197-835f-350b0e994dd5",
   "metadata": {},
   "outputs": [],
   "source": [
    "#(Ans2)\n",
    "import numpy as np\n",
    "arr = np.arange(6)\n",
    "\n",
    "if arr.dtype == np.float64:\n",
    "    print(\"The array data type is float64.\")\n",
    "else:\n",
    "    print(\"The array data type is not float64.\")\n"
   ]
  },
  {
   "cell_type": "code",
   "execution_count": null,
   "id": "8c120c08-b8dc-4684-9aeb-f9061498cc29",
   "metadata": {},
   "outputs": [],
   "source": [
    "#(Ans3)\n",
    "import numpy as np\n",
    "arr = np.arange(6)\n",
    "\n",
    "arr = np.array([1+2j, 3+4j, 5+6j], dtype=np.complex128)\n"
   ]
  },
  {
   "cell_type": "code",
   "execution_count": null,
   "id": "6058786e-780a-4eea-8a80-c1a56ab69062",
   "metadata": {},
   "outputs": [],
   "source": [
    "#(Ans4)\n",
    "import numpy as np\n",
    "arr = np.arange(6)\n",
    "\n",
    "arr = arr.astype(np.float32)\n"
   ]
  },
  {
   "cell_type": "code",
   "execution_count": null,
   "id": "19dd892d-e2b6-4730-8138-316ed660caca",
   "metadata": {},
   "outputs": [],
   "source": [
    "#(Ans5)\n",
    "import numpy as np\n",
    "arr = np.arange(6)\n",
    "\n",
    "arr = arr.astype(np.float32)\n"
   ]
  },
  {
   "cell_type": "code",
   "execution_count": null,
   "id": "fe072e79-4e23-4169-b8fe-9a71cbe38d6b",
   "metadata": {},
   "outputs": [],
   "source": [
    "#(Ans6)\n",
    "import numpy as np\n",
    "arr = np.arange(6)\n",
    "\n",
    "def array_attributes(arr):\n",
    "    return arr.shape, arr.size, arr.dtype\n"
   ]
  },
  {
   "cell_type": "code",
   "execution_count": null,
   "id": "58a6efaf-271f-49e9-924f-94f7f826cc62",
   "metadata": {},
   "outputs": [],
   "source": [
    "#(Ans7)\n",
    "def array_dimension(arr):\n",
    "    return arr.ndim\n"
   ]
  },
  {
   "cell_type": "code",
   "execution_count": null,
   "id": "5306f50b-653d-4b06-b008-eed512bf7c79",
   "metadata": {},
   "outputs": [],
   "source": [
    "#(Ans8)\n",
    "def item_size_info(arr):\n",
    "    return arr.itemsize, arr.nbytes\n"
   ]
  },
  {
   "cell_type": "code",
   "execution_count": null,
   "id": "b4ce37a1-b9b9-4f97-8c4a-176d6b665fb1",
   "metadata": {},
   "outputs": [],
   "source": [
    "#(Ans9)\n",
    "def array_strides(arr):\n",
    "    return arr.strides\n"
   ]
  },
  {
   "cell_type": "code",
   "execution_count": null,
   "id": "598a5890-2604-4f87-9523-f6f7caa9f8c6",
   "metadata": {},
   "outputs": [],
   "source": [
    "#(Ans10)\n",
    "def shape_stride_relationship(arr):\n",
    "    return arr.shape, arr.strides\n"
   ]
  },
  {
   "cell_type": "code",
   "execution_count": null,
   "id": "c50768c5-3233-48bf-a693-e8dacd7eaa67",
   "metadata": {},
   "outputs": [],
   "source": [
    "#(Ans11)\n",
    "import numpy as np\n",
    "def create_zeros_array(n):\n",
    "    return np.zeros(n)\n"
   ]
  },
  {
   "cell_type": "code",
   "execution_count": null,
   "id": "ec6d9ca2-d0b6-41d0-8cfc-89f0efe25b5a",
   "metadata": {},
   "outputs": [],
   "source": [
    "#(Ans12)\n",
    "import numpy as np\n",
    "\n",
    "def create_ones_matrix(rows, cols):\n",
    "    return np.ones((rows, cols))\n"
   ]
  },
  {
   "cell_type": "code",
   "execution_count": null,
   "id": "26b3e5f5-b6d2-406a-8f60-414a0d81d408",
   "metadata": {},
   "outputs": [],
   "source": [
    "#(Ans13)\n",
    "import numpy as np\n",
    "\n",
    "def generate_range_array(start, stop, step):\n",
    "    return np.arange(start, stop, step)\n"
   ]
  },
  {
   "cell_type": "code",
   "execution_count": null,
   "id": "4b0d5c35-1d07-476e-ae37-470211bd55ae",
   "metadata": {},
   "outputs": [],
   "source": [
    "#(Ans14)\n",
    "import numpy as np\n",
    "\n",
    "def generate_range_array(start, stop, step):\n",
    "    return np.arange(start, stop, step)\n"
   ]
  },
  {
   "cell_type": "code",
   "execution_count": null,
   "id": "0d90f155-98f9-4103-92e4-e7489834a9ec",
   "metadata": {},
   "outputs": [],
   "source": [
    "#(Ans15)\n",
    "import numpy as np\n",
    "\n",
    "def create_identity_matrix(n):\n",
    "    return np.eye(n)\n"
   ]
  },
  {
   "cell_type": "code",
   "execution_count": null,
   "id": "2a4284f5-d400-4ed4-a4c3-bff5a094d56d",
   "metadata": {},
   "outputs": [],
   "source": [
    "#(Ans16)\n",
    "import numpy as np\n",
    "\n",
    "def list_to_numpy_array(lst):\n",
    "    return np.array(lst)\n"
   ]
  },
  {
   "cell_type": "code",
   "execution_count": null,
   "id": "6dca0c0c-d564-41b0-8d13-04853b3447ee",
   "metadata": {},
   "outputs": [],
   "source": [
    "#(Ans17)\n",
    "import numpy as np\n",
    "\n",
    "arr = np.array([1, 2, 3])\n",
    "arr_view = arr.view()\n"
   ]
  },
  {
   "cell_type": "code",
   "execution_count": null,
   "id": "9a09f132-25c8-4d4d-94be-78be94ed213e",
   "metadata": {},
   "outputs": [],
   "source": [
    "#(Ans18)\n",
    "import numpy as np\n",
    "\n",
    "def concatenate_arrays(arr1, arr2, axis=0):\n",
    "    return np.concatenate((arr1, arr2), axis=axis)\n"
   ]
  },
  {
   "cell_type": "code",
   "execution_count": null,
   "id": "36655e4f-ad1b-4318-babd-a34cf865b45c",
   "metadata": {},
   "outputs": [],
   "source": [
    "#(Ans19)\n",
    "import numpy as np\n",
    "arr1 = np.array([[1, 2], [3, 4]])\n",
    "arr2 = np.array([[5, 6]])\n",
    "concatenated_arr = np.concatenate((arr1, arr2), axis=0)\n"
   ]
  },
  {
   "cell_type": "code",
   "execution_count": null,
   "id": "f49a5f98-9fef-42db-bd7a-066930cc2863",
   "metadata": {},
   "outputs": [],
   "source": [
    "#(Ans20)\n",
    "import numpy as np\n",
    "def vertical_stack(arrays):\n",
    "    return np.vstack(arrays)\n"
   ]
  },
  {
   "cell_type": "code",
   "execution_count": null,
   "id": "9ebcec3a-8ef4-4ee4-a80f-6d1195bdd366",
   "metadata": {},
   "outputs": [],
   "source": [
    "#(Ans21)\n",
    "import numpy as np\n",
    "def create_range_array(start, stop, step):\n",
    "    return np.arange(start, stop + 1, step)\n"
   ]
  },
  {
   "cell_type": "code",
   "execution_count": null,
   "id": "81ef25d9-43f3-44cc-8e3f-6c7bc29fc7c9",
   "metadata": {},
   "outputs": [],
   "source": [
    "#(Ans22)\n",
    "import numpy as np\n",
    "def generate_equally_spaced():\n",
    "    return np.linspace(0, 1, 10)\n"
   ]
  },
  {
   "cell_type": "code",
   "execution_count": null,
   "id": "701d843d-faaf-4c02-a590-cd9987cdeaae",
   "metadata": {},
   "outputs": [],
   "source": [
    "#(Ans23)\n",
    "import numpy as np\n",
    "def generate_log_space():\n",
    "    return np.logspace(0, 3, 5)\n"
   ]
  },
  {
   "cell_type": "code",
   "execution_count": null,
   "id": "cfb81ca6-1eeb-4ccd-8fc4-a08b57f7e8d0",
   "metadata": {},
   "outputs": [],
   "source": [
    "#(Ans24)\n",
    "import numpy as np\n",
    "import pandas as pd\n",
    "arr = np.random.randint(1, 101, size=(5, 3))\n",
    "df = pd.DataFrame(arr, columns=['A', 'B', 'C'])\n"
   ]
  },
  {
   "cell_type": "code",
   "execution_count": null,
   "id": "f8c8077a-e549-4092-8c48-e0b8bce52e90",
   "metadata": {},
   "outputs": [],
   "source": [
    "#(Ans25)\n",
    "import numpy as np\n",
    "def replace_negatives_with_zeros(df, column_name):\n",
    "    df[column_name] = np.where(df[column_name] < 0, 0, df[column_name])\n",
    "    return df\n"
   ]
  },
  {
   "cell_type": "code",
   "execution_count": null,
   "id": "b74da5b0-ed23-4866-bedf-db3c5d4f5517",
   "metadata": {},
   "outputs": [],
   "source": [
    "#(Ans26)\n",
    "import numpy as np\n",
    "arr = np.array([10, 20, 30, 40, 50])\n",
    "element = arr[2]\n"
   ]
  },
  {
   "cell_type": "code",
   "execution_count": null,
   "id": "114dafe9-a1ae-41d1-a037-286266af7555",
   "metadata": {},
   "outputs": [],
   "source": [
    "#(Ans27)\n",
    "import numpy as np\n",
    "arr_2d = np.array([[1, 2, 3], [4, 5, 6], [7, 8, 9]])\n",
    "element = arr_2d[1, 2]\n"
   ]
  },
  {
   "cell_type": "code",
   "execution_count": null,
   "id": "16f47a4c-62f8-41db-a7dc-0afa1200acbb",
   "metadata": {},
   "outputs": [],
   "source": [
    "#(Ans28)\n",
    "import numpy as np\n",
    "arr = np.array([3, 8, 2, 10, 5, 7])\n",
    "result = arr[arr > 5]\n"
   ]
  },
  {
   "cell_type": "code",
   "execution_count": null,
   "id": "9ab8fc82-cb44-4179-b268-5bccecf10f1c",
   "metadata": {},
   "outputs": [],
   "source": [
    "#(Ans29)\n",
    "import numpy as np\n",
    "arr = np.array([1, 2, 3, 4, 5, 6, 7, 8, 9])\n",
    "sliced_arr = arr[2:6]\n"
   ]
  },
  {
   "cell_type": "code",
   "execution_count": null,
   "id": "8ed500aa-c464-4972-b786-abffb2029b08",
   "metadata": {},
   "outputs": [],
   "source": [
    "#(Ans30)\n",
    "import numpy as np\n",
    "arr_2d = np.array([[1, 2, 3], [4, 5, 6], [7, 8, 9]])\n",
    "sub_array = arr_2d[:2, 1:3]\n"
   ]
  },
  {
   "cell_type": "code",
   "execution_count": null,
   "id": "d0a4b27f-53c5-4a3c-bd3d-c78bd48e8b27",
   "metadata": {},
   "outputs": [],
   "source": [
    "#(Ans31)\n",
    "def extract_elements(arr, indices):\n",
    "    return arr[indices]\n"
   ]
  },
  {
   "cell_type": "code",
   "execution_count": null,
   "id": "5ae4fb8a-e27d-4187-a5f5-d447dbe97440",
   "metadata": {},
   "outputs": [],
   "source": [
    "#(Ans32)\n",
    "def filter_greater_than(arr, threshold):\n",
    "    return arr[arr > threshold]\n"
   ]
  },
  {
   "cell_type": "code",
   "execution_count": null,
   "id": "e922f9bf-6b99-447c-90a4-e19c36888ecd",
   "metadata": {},
   "outputs": [],
   "source": [
    "#(Ans33)\n",
    "def extract_3d_elements(arr, x_idx, y_idx, z_idx):\n",
    "    return arr[x_idx, y_idx, z_idx]\n"
   ]
  },
  {
   "cell_type": "code",
   "execution_count": null,
   "id": "3069c091-4abf-456b-ae86-fdfbe5e620d5",
   "metadata": {},
   "outputs": [],
   "source": [
    "#(Ans34)\n",
    "def filter_by_two_conditions(arr, condition1, condition2):\n",
    "    return arr[(arr > condition1) & (arr < condition2)]\n"
   ]
  },
  {
   "cell_type": "code",
   "execution_count": null,
   "id": "b848523b-149d-4018-905b-0f59aec6e6c6",
   "metadata": {},
   "outputs": [],
   "source": [
    "#(Ans35)\n",
    "def extract_2d_elements(arr, row_indices, col_indices):\n",
    "    return arr[row_indices, col_indices]\n"
   ]
  },
  {
   "cell_type": "code",
   "execution_count": null,
   "id": "dea3ddf5-25a3-41b0-a449-0e129eeb26a0",
   "metadata": {},
   "outputs": [],
   "source": [
    "#(Ans36)\n",
    "def add_scalar(arr):\n",
    "    return arr + 5\n"
   ]
  },
  {
   "cell_type": "code",
   "execution_count": null,
   "id": "4aa3d2c5-f89f-4127-9b9a-7be538b64de3",
   "metadata": {},
   "outputs": [],
   "source": [
    "#(Ans37)\n",
    "def multiply_rows(arr1, arr2):\n",
    "    return arr2 * arr1.reshape(-1, 1)\n"
   ]
  },
  {
   "cell_type": "code",
   "execution_count": null,
   "id": "c4bb5e30-215e-4c69-b5c6-e7cd84b1f945",
   "metadata": {},
   "outputs": [],
   "source": [
    "#(Ans38)\n",
    "def add_to_rows(arr1, arr2):\n",
    "    return arr2 + arr1\n"
   ]
  },
  {
   "cell_type": "code",
   "execution_count": null,
   "id": "19cd80c5-6ba8-4315-a891-236c82ad0cac",
   "metadata": {},
   "outputs": [],
   "source": [
    "#(Ans39)\n",
    "def add_broadcast(arr1, arr2):\n",
    "    return arr1 + arr2\n"
   ]
  },
  {
   "cell_type": "code",
   "execution_count": null,
   "id": "579437c4-f0ed-4d7e-af0e-e0c3d3c4d65b",
   "metadata": {},
   "outputs": [],
   "source": [
    "#(Ans40)\n",
    "def multiply_with_broadcast(arr1, arr2):\n",
    "    if arr1.shape[1] != arr2.shape[0]:\n",
    "        raise ValueError(\"Shapes are incompatible for broadcasting\")\n",
    "    return arr1[:, :arr2.shape[1]] * arr2\n"
   ]
  },
  {
   "cell_type": "code",
   "execution_count": null,
   "id": "dd7c9c33-392a-4bcf-b075-195e3e79b5a1",
   "metadata": {},
   "outputs": [],
   "source": [
    "#(Ans41)\n",
    "def column_mean(arr):\n",
    "    return arr.mean(axis=0)\n"
   ]
  },
  {
   "cell_type": "code",
   "execution_count": null,
   "id": "4e0a4e27-b406-4762-9ba7-f7125aede9ca",
   "metadata": {},
   "outputs": [],
   "source": [
    "#(Ans42)\n",
    "def row_max(arr):\n",
    "    return arr.max(axis=1)\n"
   ]
  },
  {
   "cell_type": "code",
   "execution_count": null,
   "id": "d096bcc0-b75e-4c4a-9ced-819cce1cef02",
   "metadata": {},
   "outputs": [],
   "source": [
    "#(Ans43)\n",
    "def column_max_indices(arr):\n",
    "    return arr.argmax(axis=0)\n"
   ]
  },
  {
   "cell_type": "code",
   "execution_count": null,
   "id": "780db614-66cf-4cb7-a26a-8a9912d4421f",
   "metadata": {},
   "outputs": [],
   "source": [
    "#(Ans44)\n",
    "import numpy as np\n",
    "def moving_sum(arr, window_size):\n",
    "    return np.array([np.sum(arr[i:i+window_size]) for i in range(len(arr) - window_size + 1)])\n"
   ]
  },
  {
   "cell_type": "code",
   "execution_count": null,
   "id": "905d43e4-4c1a-43e4-8678-9ad537e62f77",
   "metadata": {},
   "outputs": [],
   "source": [
    "#(Ans45)\n",
    "import numpy as np\n",
    "def all_even_columns(arr):\n",
    "    return np.all(arr % 2 == 0, axis=0)\n"
   ]
  },
  {
   "cell_type": "code",
   "execution_count": null,
   "id": "01c1a7f4-457c-4d4f-b92d-decb2b95fb89",
   "metadata": {},
   "outputs": [],
   "source": [
    "#(Ans46)\n",
    "def reshape_matrix(arr, m, n):\n",
    "    return arr.reshape((m, n))\n"
   ]
  },
  {
   "cell_type": "code",
   "execution_count": null,
   "id": "17335986-47f7-498a-b8bb-e0e911af55b2",
   "metadata": {},
   "outputs": [],
   "source": [
    "#(Ans47)\n",
    "def flatten_matrix(matrix):\n",
    "    return matrix.flatten()\n"
   ]
  },
  {
   "cell_type": "code",
   "execution_count": null,
   "id": "736a4390-0eb0-42af-a3a2-357d0e764f4d",
   "metadata": {},
   "outputs": [],
   "source": [
    "#(Ans48)\n",
    "import numpy as np\n",
    "\n",
    "def concatenate_arrays(arr1, arr2, axis):\n",
    "    return np.concatenate((arr1, arr2), axis=axis)\n"
   ]
  },
  {
   "cell_type": "code",
   "execution_count": null,
   "id": "9a962f9f-db77-4694-a483-f4c06cddacf7",
   "metadata": {},
   "outputs": [],
   "source": [
    "#(Ans49)\n",
    "import numpy as np\n",
    "def split_array(arr, indices, axis):\n",
    "    return np.split(arr, indices, axis=axis)\n"
   ]
  },
  {
   "cell_type": "code",
   "execution_count": null,
   "id": "5ab2a47d-0882-4dc5-8ef5-37cfb8ca51b5",
   "metadata": {},
   "outputs": [],
   "source": [
    "#(Ans50)\n",
    "import numpy as np\n",
    "def insert_and_delete(arr, insert_idx, values, delete_idx):\n",
    "    arr = np.insert(arr, insert_idx, values)\n",
    "    return np.delete(arr, delete_idx)\n"
   ]
  },
  {
   "cell_type": "code",
   "execution_count": null,
   "id": "5dc24e79-9ce1-4c08-acd8-ead706984b61",
   "metadata": {},
   "outputs": [],
   "source": [
    "#(Ans51)\n",
    "def element_wise_addition(arr1, arr2):\n",
    "    return arr1 + arr2\n"
   ]
  },
  {
   "cell_type": "code",
   "execution_count": null,
   "id": "30e70116-9158-4d61-b491-d1cbe3623d43",
   "metadata": {},
   "outputs": [],
   "source": [
    "#(Ans52)\n",
    "def element_wise_subtraction(arr1, arr2):\n",
    "    return arr1 - arr2\n"
   ]
  },
  {
   "cell_type": "code",
   "execution_count": null,
   "id": "400afb26-cfef-4c5d-8a11-fc3aefa1f045",
   "metadata": {},
   "outputs": [],
   "source": [
    "#(Ans53)\n",
    "def element_wise_multiplication(arr1, arr2):\n",
    "    return arr1 * arr2\n"
   ]
  },
  {
   "cell_type": "code",
   "execution_count": null,
   "id": "4c37119c-8e8f-4a87-b2ae-41d6d894beb1",
   "metadata": {},
   "outputs": [],
   "source": [
    "#(Ans54)\n",
    "def element_wise_division(arr1, arr2):\n",
    "    return arr1 / arr2"
   ]
  },
  {
   "cell_type": "code",
   "execution_count": null,
   "id": "3f21bf57-54e6-4224-ae5a-e890c6e72156",
   "metadata": {},
   "outputs": [],
   "source": [
    "#(Ans55)\n",
    "def element_wise_exponentiation(arr1, arr2):\n",
    "    return arr1 ** arr2\n"
   ]
  },
  {
   "cell_type": "code",
   "execution_count": null,
   "id": "4d627add-55ea-472b-8428-8c61959b69aa",
   "metadata": {},
   "outputs": [],
   "source": [
    "#(Ans56)\n",
    "import numpy as np\n",
    "def count_substring_occurrences(arr, substring):\n",
    "    return np.char.count(arr, substring)\n"
   ]
  },
  {
   "cell_type": "code",
   "execution_count": null,
   "id": "049d8e3b-68d2-4909-8603-c24ca751b2cf",
   "metadata": {},
   "outputs": [],
   "source": [
    "#(Ans57)\n",
    "import numpy as np\n",
    "def extract_uppercase(arr):\n",
    "    return np.char.upper(arr)\n"
   ]
  },
  {
   "cell_type": "code",
   "execution_count": null,
   "id": "aebcead6-a0d6-4305-92e3-cffd3de42284",
   "metadata": {},
   "outputs": [],
   "source": [
    "#(Ans58)\n",
    "import numpy as np\n",
    "def replace_substring(arr, old, new):\n",
    "    return np.char.replace(arr, old, new)\n"
   ]
  },
  {
   "cell_type": "code",
   "execution_count": null,
   "id": "c207c71b-17f1-44b4-a8ae-21bcb7458533",
   "metadata": {},
   "outputs": [],
   "source": [
    "#(Ans59)\n",
    "import numpy as np\n",
    "def concatenate_strings(arr):\n",
    "    return np.char.add(arr)\n"
   ]
  },
  {
   "cell_type": "code",
   "execution_count": 1,
   "id": "42e83cbc-2c25-4545-ac95-75c3535ceaaf",
   "metadata": {},
   "outputs": [],
   "source": [
    "#(Ans60)\n",
    "import numpy as np\n",
    "arr = np.array(['apple', 'banana', 'grape', 'pineapple'])\n",
    "def longest_string_length(arr):\n",
    "    return np.max(np.char.str_len(arr))\n"
   ]
  },
  {
   "cell_type": "code",
   "execution_count": null,
   "id": "af048934-7650-4141-a782-0a2456b90e3b",
   "metadata": {},
   "outputs": [],
   "source": [
    "#(Ans61)\n",
    "import numpy as np\n",
    "def dataset_statistics():\n",
    "    arr = np.random.randint(1, 1001, 100)\n",
    "    mean = np.mean(arr)\n",
    "    median = np.median(arr)\n",
    "    variance = np.var(arr)\n",
    "    std_dev = np.std(arr)\n",
    "    return mean, median, variance, std_dev\n"
   ]
  },
  {
   "cell_type": "code",
   "execution_count": null,
   "id": "4b2ea44c-3cf0-4f6e-af32-df4a245ec776",
   "metadata": {},
   "outputs": [],
   "source": [
    "#(Ans62)\n",
    "import numpy as np\n",
    "arr = np.random.randint(1, 101, size=50)\n",
    "percentile_25 = np.percentile(arr, 25)\n",
    "percentile_75 = np.percentile(arr, 75)\n"
   ]
  },
  {
   "cell_type": "code",
   "execution_count": null,
   "id": "6ed87dcc-4492-4aca-ba30-a7945d6df12a",
   "metadata": {},
   "outputs": [],
   "source": [
    "#(Ans63)\n",
    "import numpy as np\n",
    "arr1 = np.random.randint(1, 100, size=50)\n",
    "arr2 = np.random.randint(1, 100, size=50)\n",
    "correlation_coefficient = np.c\n"
   ]
  },
  {
   "cell_type": "code",
   "execution_count": null,
   "id": "5d74318b-124c-4128-9f2b-c9b1cceb3376",
   "metadata": {},
   "outputs": [],
   "source": [
    "#(Ans64)\n",
    "import numpy as np\n",
    "\n",
    "# Creating two matrices\n",
    "matrix1 = np.array([[1, 2, 3], [4, 5, 6]])\n",
    "matrix2 = np.array([[7, 8], [9, 10], [11, 12]])\n",
    "\n",
    "# Performing matrix multiplication\n",
    "result = np.dot(matrix1, matrix2)\n",
    "print(result)\n"
   ]
  },
  {
   "cell_type": "code",
   "execution_count": null,
   "id": "3980c006-43d7-4aa5-9e8a-5c709d571aa7",
   "metadata": {},
   "outputs": [],
   "source": [
    "#(Ans65)\n",
    "import numpy as np\n",
    "\n",
    "# Creating an array of 50 integers between 10 and 1000\n",
    "array = np.random.randint(10, 1001, 50)\n",
    "\n",
    "# Calculating percentiles\n",
    "percentile_10th = np.percentile(array, 10)\n",
    "median = np.median(array)\n",
    "percentile_90th = np.percentile(array, 90)\n",
    "first_quartile = np.percentile(array, 25)\n",
    "third_quartile = np.percentile(array, 75)\n",
    "\n",
    "print(\"10th Percentile:\", percentile_10th)\n",
    "print(\"50th Percentile (Median):\", median)\n",
    "print(\"90th Percentile:\", percentile_90th)\n",
    "print(\"1st Quartile:\", first_quartile)\n",
    "print(\"3rd Quartile:\", third_quartile)\n"
   ]
  },
  {
   "cell_type": "code",
   "execution_count": null,
   "id": "f6809527-f463-4a53-9c7d-234ebdbc6cba",
   "metadata": {},
   "outputs": [],
   "source": [
    "#(Ans66)\n",
    "import numpy as np\n",
    "\n",
    "# Creating a NumPy array of integers\n",
    "array = np.array([10, 20, 30, 40, 50])\n",
    "\n",
    "# Finding the index of a specific element (e.g., 30)\n",
    "index = np.where(array == 30)\n",
    "print(\"Index of 30:\", index[0][0])\n"
   ]
  },
  {
   "cell_type": "code",
   "execution_count": null,
   "id": "5a7a5f4c-fcf8-4bec-9543-3a1ddba8fec1",
   "metadata": {},
   "outputs": [],
   "source": [
    "#(Ans67)\n",
    "import numpy as np\n",
    "\n",
    "# Generating a random NumPy array\n",
    "array = np.random.randint(1, 100, 10)\n",
    "\n",
    "# Sorting the array in ascending order\n",
    "sorted_array = np.sort(array)\n",
    "print(\"Sorted Array:\", sorted_array)\n"
   ]
  },
  {
   "cell_type": "code",
   "execution_count": null,
   "id": "4f9a1713-c176-4404-9d9c-06fc43c0d091",
   "metadata": {},
   "outputs": [],
   "source": [
    "#(Ans68)\n",
    "import numpy as np\n",
    "\n",
    "# Given NumPy array\n",
    "array = np.array([5, 15, 25, 35, 45])\n",
    "\n",
    "# Filtering elements > 20\n",
    "filtered_array = array[array > 20]\n",
    "print(\"Filtered Array:\", filtered_array)\n"
   ]
  },
  {
   "cell_type": "code",
   "execution_count": null,
   "id": "9129b24b-44d3-459e-97e0-10be7f749112",
   "metadata": {},
   "outputs": [],
   "source": [
    "#(Ans69)\n",
    "import numpy as np\n",
    "\n",
    "# Given NumPy array\n",
    "array = np.array([10, 15, 20, 25, 30])\n",
    "\n",
    "# Filtering elements which are divisible by 3\n",
    "filtered_array = array[array % 3 == 0]\n",
    "print(\"Filtered Array:\", filtered_array)\n"
   ]
  },
  {
   "cell_type": "code",
   "execution_count": null,
   "id": "2358bc30-b031-4f10-94fc-b8f5cb169506",
   "metadata": {},
   "outputs": [],
   "source": [
    "#(Ans70)\n",
    "import numpy as np\n",
    "arr = np.array([12, 25, 6, 42, 8, 30])\n",
    "filtered_arr = arr[(arr >= 20) & (arr <= 40)]\n"
   ]
  },
  {
   "cell_type": "code",
   "execution_count": null,
   "id": "8bd6a832-f163-4c0e-a1cc-4c7634e72752",
   "metadata": {},
   "outputs": [],
   "source": [
    "#(Ans71)\n",
    "import numpy as np\n",
    "arr = np.array([1, 2, 3])\n",
    "byte_order = arr.dtype.byteorder\n"
   ]
  },
  {
   "cell_type": "code",
   "execution_count": null,
   "id": "e7dbe126-724e-4e78-87a9-4fd0c355be7a",
   "metadata": {},
   "outputs": [],
   "source": [
    "#(Ans72)\n",
    "import numpy as np\n",
    "arr = np.array([1, 2, 3])\n",
    "arr.byteswap(True)\n"
   ]
  },
  {
   "cell_type": "code",
   "execution_count": null,
   "id": "7a3fab72-e437-46fd-be40-e9ca178abf2a",
   "metadata": {},
   "outputs": [],
   "source": [
    "#(Ans73)\n",
    "import numpy as np\n",
    "arr = np.array([1, 2, 3])\n",
    "swapped_arr = arr.newbyteorder()\n"
   ]
  },
  {
   "cell_type": "code",
   "execution_count": null,
   "id": "43ef9b2f-f3a0-46ca-8e16-6feb68207e04",
   "metadata": {},
   "outputs": [],
   "source": [
    "#(Ans74)\n",
    "import numpy as np\n",
    "arr = np.array([1, 2, 3])\n",
    "swapped_arr = arr.newbyteorder('<' if arr.dtype.byteorder == '>' else '>')\n"
   ]
  },
  {
   "cell_type": "code",
   "execution_count": null,
   "id": "d76ac194-035d-4725-ac40-4d7000f24063",
   "metadata": {},
   "outputs": [],
   "source": [
    "#(Ans75)\n",
    "import numpy as np\n",
    "arr = np.array([1, 2, 3])\n",
    "is_swapping_necessary = arr.dtype.byteorder not in ('=', '|')\n"
   ]
  },
  {
   "cell_type": "code",
   "execution_count": null,
   "id": "c77a5249-f046-4e6f-90e4-2c65c5dd3172",
   "metadata": {},
   "outputs": [],
   "source": [
    "#(Ans76)\n",
    "import numpy as np\n",
    "arr1 = np.array([1, 2, 3, 4, 5, 6, 7, 8, 9, 10])\n",
    "copy_arr = arr1.copy()\n",
    "copy_arr[0] = 99\n",
    "# Check if arr1 is affected\n",
    "is_arr1_affected = (arr1[0] == 99)\n"
   ]
  },
  {
   "cell_type": "code",
   "execution_count": null,
   "id": "02b5ccb4-f67e-4a48-88ad-8bd23e0ca067",
   "metadata": {},
   "outputs": [],
   "source": [
    "#(Ans77)\n",
    "import numpy as np\n",
    "matrix = np.random.randint(1, 10, size=(3, 3))\n",
    "view_slice = matrix[:2, :2]\n",
    "view_slice[0, 0] = 99\n",
    "# Check if matrix is affected\n",
    "is_matrix_affected = (matrix[0, 0] == 99)\n"
   ]
  },
  {
   "cell_type": "code",
   "execution_count": null,
   "id": "9243cb17-0703-4a55-81e1-1dd8703af939",
   "metadata": {},
   "outputs": [],
   "source": [
    "#(Ans78)\n",
    "import numpy as np\n",
    "array_a = np.arange(1, 13).reshape((4, 3))\n",
    "view_b = array_a[:2, :2]\n",
    "view_b += 5\n",
    "# Check if array_a is affected\n",
    "is_array_a_affected = np.array_equal(array_a[:2, :2], view_b)\n"
   ]
  },
  {
   "cell_type": "code",
   "execution_count": null,
   "id": "ba73be29-aa2f-4827-82c7-a55e86fb7087",
   "metadata": {},
   "outputs": [],
   "source": [
    "#(Ans79)\n",
    "import numpy as np\n",
    "orig_array = np.arange(1, 9).reshape((2, 4))\n",
    "reshaped_view = orig_array.reshape((4, 2))\n",
    "reshaped_view[0, 0] = 99\n",
    "# Check if orig_array is affected\n",
    "is_orig_array_affected = (orig_array[0, 0] == 99)\n"
   ]
  },
  {
   "cell_type": "code",
   "execution_count": null,
   "id": "41407fe0-e0ff-4bc0-b3be-24f0af204107",
   "metadata": {},
   "outputs": [],
   "source": [
    "#(Ans80)\n",
    "import numpy as np\n",
    "data = np.random.randint(1, 10, size=(3, 4))\n",
    "data_copy = data[data > 5].copy()\n",
    "data_copy[0] = 99\n",
    "# Check if data is affected\n",
    "is_data_affected = 99 in data\n"
   ]
  },
  {
   "cell_type": "code",
   "execution_count": null,
   "id": "c7833f2c-7b43-4409-9808-eed7f5b1fc54",
   "metadata": {},
   "outputs": [],
   "source": [
    "#(Ans81)\n",
    "import numpy as np\n",
    "\n",
    "# Define the shape of the matrices\n",
    "shape = (3, 3)\n",
    "\n",
    "# Create two matrices A and B with random integers\n",
    "A = np.random.randint(1, 10, size=shape)\n",
    "B = np.random.randint(1, 10, size=shape)\n",
    "\n",
    "# Perform addition\n",
    "C_add = A + B\n",
    "\n",
    "# Perform subtraction\n",
    "C_sub = A - B\n",
    "\n",
    "print(\"Matrix A:\\n\", A)\n",
    "print(\"Matrix B:\\n\", B)\n",
    "print(\"Matrix A + B:\\n\", C_add)\n",
    "print(\"Matrix A - B:\\n\", C_sub)\n"
   ]
  },
  {
   "cell_type": "code",
   "execution_count": null,
   "id": "a4243225-a249-4d04-95d6-7255a5d51fb7",
   "metadata": {},
   "outputs": [],
   "source": [
    "#(Ans82)\n",
    "import numpy as np\n",
    "\n",
    "# Define the shapes of the matrices\n",
    "shape_C = (3, 2)\n",
    "shape_D = (2, 4)\n",
    "\n",
    "# Create two matrices C and D with random integers\n",
    "C = np.random.randint(1, 10, size=shape_C)\n",
    "D = np.random.randint(1, 10, size=shape_D)\n",
    "\n",
    "# Perform matrix multiplication\n",
    "result = np.dot(C, D)\n",
    "\n",
    "print(\"Matrix C:\\n\", C)\n",
    "print(\"Matrix D:\\n\", D)\n",
    "print(\"Matrix C * D:\\n\", result)\n"
   ]
  },
  {
   "cell_type": "code",
   "execution_count": null,
   "id": "2982abe9-4e75-491b-b826-188ab95cddf2",
   "metadata": {},
   "outputs": [],
   "source": [
    "#(Ans83)\n",
    "import numpy as np\n",
    "\n",
    "# Define the shape of the matrix E\n",
    "shape_E = (3, 4)\n",
    "\n",
    "# Create the matrix E with random integers\n",
    "E = np.random.randint(1, 10, size=shape_E)\n",
    "\n",
    "# Find the transpose of the matrix E\n",
    "E_transpose = E.T\n",
    "\n",
    "print(\"Matrix E:\\n\", E)\n",
    "print(\"Transpose of Matrix E:\\n\", E_transpose)\n"
   ]
  },
  {
   "cell_type": "code",
   "execution_count": null,
   "id": "46a7765b-9b6a-4f59-a1a6-d240ba565d2a",
   "metadata": {},
   "outputs": [],
   "source": [
    "#(Ans84)\n",
    "import numpy as np\n",
    "\n",
    "# Define the shape of the square matrix F\n",
    "n = 3  # Example size of the square matrix\n",
    "\n",
    "# Create the square matrix F with random integers\n",
    "F = np.random.randint(1, 10, size=(n, n))\n",
    "\n",
    "# Compute the determinant of the matrix F\n",
    "det_F = np.linalg.det(F)\n",
    "\n",
    "print(\"Matrix F:\\n\", F)\n",
    "print(\"Determinant of Matrix F:\", det_F)\n"
   ]
  },
  {
   "cell_type": "code",
   "execution_count": null,
   "id": "4b960ba0-2078-4086-bcbb-9d466a39ddd7",
   "metadata": {},
   "outputs": [],
   "source": [
    "#(Ans85)\n",
    "import numpy as np\n",
    "\n",
    "# Define the shape of the square matrix G\n",
    "n = 3  # Example size of the square matrix\n",
    "\n",
    "# Create the square matrix G with random integers\n",
    "G = np.random.randint(1, 10, size=(n, n))\n",
    "\n",
    "# Compute the inverse of the matrix G\n",
    "# First, we need to ensure the matrix is invertible by checking if its determinant is not zero\n",
    "if np.linalg.det(G) == 0:\n",
    "    print(\"Matrix G is not invertible.\")\n",
    "else:\n",
    "    G_inverse = np.linalg.inv(G)\n",
    "    print(\"Matrix G:\\n\", G)\n",
    "    print(\"Inverse of Matrix G:\\n\", G_inverse)\n"
   ]
  },
  {
   "cell_type": "code",
   "execution_count": null,
   "id": "fafc619d-7215-476b-bf43-cb7585f8f6b1",
   "metadata": {},
   "outputs": [],
   "source": []
  },
  {
   "cell_type": "code",
   "execution_count": null,
   "id": "d281eaa4-9431-48a6-9751-e27677856cff",
   "metadata": {},
   "outputs": [],
   "source": []
  }
 ],
 "metadata": {
  "kernelspec": {
   "display_name": "Python 3 (ipykernel)",
   "language": "python",
   "name": "python3"
  },
  "language_info": {
   "codemirror_mode": {
    "name": "ipython",
    "version": 3
   },
   "file_extension": ".py",
   "mimetype": "text/x-python",
   "name": "python",
   "nbconvert_exporter": "python",
   "pygments_lexer": "ipython3",
   "version": "3.10.0"
  }
 },
 "nbformat": 4,
 "nbformat_minor": 5
}
