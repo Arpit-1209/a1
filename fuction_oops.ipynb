{
 "cells": [
  {
   "cell_type": "markdown",
   "id": "c6c03305-b8c3-45e4-940b-37ca3dd68a04",
   "metadata": {},
   "source": [
    "(Answer1)\n",
    "Functions are important because they allow for code reusability, modularity, and organization. They\n",
    "help in breaking down complex problems into smaller, manageable pieces, making the code easier to\n",
    "read, debug, and maintain."
   ]
  },
  {
   "cell_type": "code",
   "execution_count": null,
   "id": "4540c877-0990-42c4-a5a3-c7320faacdbf",
   "metadata": {},
   "outputs": [],
   "source": [
    "#(Answer2)\n",
    "def greet_students():\n",
    "    print(\"Hello, students!\")"
   ]
  },
  {
   "cell_type": "markdown",
   "id": "a0cec141-e510-4ccd-9211-fa6263df3ecd",
   "metadata": {},
   "source": [
    "(Answer3)\n",
    "print outputs data to the console.\n",
    "return exits a function and sends a value back to the caller."
   ]
  },
  {
   "cell_type": "markdown",
   "id": "86a4ed41-07ba-49c1-a21f-56f5cd760985",
   "metadata": {},
   "source": [
    "(Answer4)\n",
    "*args is used to pass a variable number of non-keyword arguments to a function.\n",
    "**kwargs is used to pass a variable number of keyword arguments to a function."
   ]
  },
  {
   "cell_type": "markdown",
   "id": "ab5edf5e-416a-45b0-a4b7-59b8af5fdae1",
   "metadata": {},
   "source": [
    "(Answer5)\n",
    "An iterator is an object that contains a countable number of values and can be iterated upon. It\n",
    "implements the iterator protocol, which consists of the methods __iter__() and __next__()."
   ]
  },
  {
   "cell_type": "code",
   "execution_count": null,
   "id": "21f50073-15e0-4a6d-b13c-663252afa76b",
   "metadata": {},
   "outputs": [],
   "source": [
    "#(Answer6)\n",
    "def generate_squares(n):\n",
    "    for i in range(1, n + 1):\n",
    "        yield i * i\n",
    "\n",
    "for square in generate_squares(5):\n",
    "    print(square)  # Output: 1 4 9 16 25\n"
   ]
  },
  {
   "cell_type": "code",
   "execution_count": null,
   "id": "4db4f41d-bc67-419a-8dc4-1f63040003b2",
   "metadata": {},
   "outputs": [],
   "source": [
    "#(Answer7)\n",
    "def generate_palindromes(n):\n",
    "    for i in range(1, n + 1):\n",
    "        if str(i) == str(i)[::-1]:\n",
    "            yield i\n",
    "\n",
    "for palindrome in generate_palindromes(100):\n",
    "    print(palindrome)\n"
   ]
  },
  {
   "cell_type": "code",
   "execution_count": null,
   "id": "938c243a-5759-4af4-ad54-4d41b6fe3501",
   "metadata": {},
   "outputs": [],
   "source": [
    "#(Answer8)\n",
    "def generate_even_numbers(n):\n",
    "    for i in range(2, n + 1, 2):\n",
    "        yield i\n",
    "\n",
    "for even_number in generate_even_numbers(10):\n",
    "    print(even_number)  # Output: 2 4 6 8 10\n"
   ]
  },
  {
   "cell_type": "code",
   "execution_count": null,
   "id": "42703e67-90c6-478f-bab1-c4afeac88385",
   "metadata": {},
   "outputs": [],
   "source": [
    "#(Answer9)\n",
    "def generate_powers_of_two(n):\n",
    "    power = 1\n",
    "    while power <= n:\n",
    "        yield power\n",
    "        power *= 2\n",
    "\n",
    "for power in generate_powers_of_two(32):\n",
    "    print(power)  # Output: 1 2 4 8 16 32\n"
   ]
  },
  {
   "cell_type": "code",
   "execution_count": null,
   "id": "7f2c062a-1cc4-4958-98cc-6521b0140113",
   "metadata": {},
   "outputs": [],
   "source": [
    "#(Answer10)\n",
    "def generate_primes(n):\n",
    "    def is_prime(num):\n",
    "        if num < 2:\n",
    "            return False\n",
    "        for i in range(2, int(num**0.5) + 1):\n",
    "            if num % i == 0:\n",
    "                return False\n",
    "        return True\n",
    "\n",
    "    for num in range(2, n + 1):\n",
    "        if is_prime(num):\n",
    "            yield num\n",
    "\n",
    "for prime in generate_primes(30):\n",
    "    print(prime)\n"
   ]
  },
  {
   "cell_type": "code",
   "execution_count": null,
   "id": "85025f09-8107-4a26-93d1-42630d76eba9",
   "metadata": {},
   "outputs": [],
   "source": [
    "#(Answer11)\n",
    "sum_numbers = lambda x, y: x + y\n",
    "print(sum_numbers(3, 5))  # Output: 8\n"
   ]
  },
  {
   "cell_type": "code",
   "execution_count": null,
   "id": "92ac7bfd-534e-477a-a6c3-881f77d42ee7",
   "metadata": {},
   "outputs": [],
   "source": [
    "#(Answer12)\n",
    "square = lambda x: x * x\n",
    "print(square(4))  # Output: 16\n"
   ]
  },
  {
   "cell_type": "code",
   "execution_count": null,
   "id": "5bdefb0b-b44a-4169-adb7-1b03c791bf48",
   "metadata": {},
   "outputs": [],
   "source": [
    "#(Answer13)\n",
    "is_even = lambda x: x % 2 == 0\n",
    "print(is_even(4))  # Output: True\n",
    "print(is_even(5))  # Output: False\n"
   ]
  },
  {
   "cell_type": "code",
   "execution_count": null,
   "id": "bec672dd-a7c9-42ef-870e-8c1df51bfdb4",
   "metadata": {},
   "outputs": [],
   "source": [
    "#(Answer14)\n",
    "concatenate = lambda a, b: a + b\n",
    "print(concatenate(\"Hello\", \"World\"))  # Output: HelloWorld\n"
   ]
  },
  {
   "cell_type": "code",
   "execution_count": null,
   "id": "df38cfc3-edad-42d6-bd5d-16733cc5510f",
   "metadata": {},
   "outputs": [],
   "source": [
    "#(Answer15)\n",
    "max_of_three = lambda a, b, c: max(a, b, c)\n",
    "print(max_of_three(3, 7, 5))  # Output: 7\n"
   ]
  },
  {
   "cell_type": "code",
   "execution_count": null,
   "id": "9ababec3-cfeb-472c-ac34-9ab1680dc57f",
   "metadata": {},
   "outputs": [],
   "source": [
    "#(Answer16)\n",
    "numbers = [1, 2, 3, 4, 5, 6]\n",
    "even_squares = list(map(lambda x: x * x, filter(lambda x: x % 2 == 0, numbers)))\n",
    "print(even_squares)  # Output: [4, 16, 36]\n"
   ]
  },
  {
   "cell_type": "code",
   "execution_count": null,
   "id": "48461c1c-9383-43ea-a25a-beb3fae7b5e0",
   "metadata": {},
   "outputs": [],
   "source": [
    "#(Answer17)\n",
    "from functools import reduce\n",
    "\n",
    "numbers = [1, -2, 3, -4, 5]\n",
    "positive_product = reduce(lambda x, y: x * y, filter(lambda x: x > 0, numbers))\n",
    "print(positive_product)  # Output: 15\n"
   ]
  },
  {
   "cell_type": "code",
   "execution_count": null,
   "id": "a8bb65a3-5680-4266-8286-42a379d610bc",
   "metadata": {},
   "outputs": [],
   "source": [
    "#(Answer18)\n",
    "numbers = [1, 2, 3, 4, 5]\n",
    "doubled_odds = list(map(lambda x: x * 2, filter(lambda x: x % 2 != 0, numbers)))\n",
    "print(doubled_odds)  # Output: [2, 6, 10]\n"
   ]
  },
  {
   "cell_type": "code",
   "execution_count": null,
   "id": "d1160588-205d-4470-9e61-6a345a52829d",
   "metadata": {},
   "outputs": [],
   "source": [
    "#(Answer19)\n",
    "numbers = [1, 2, 3, 4]\n",
    "sum_of_cubes = sum(map(lambda x: x**3, numbers))\n",
    "print(sum_of_cubes)  # Output: 100\n"
   ]
  },
  {
   "cell_type": "code",
   "execution_count": null,
   "id": "5f9a4a37-29a8-413d-8926-faabf4cc8767",
   "metadata": {},
   "outputs": [],
   "source": [
    "#(Answer20)\n",
    "def is_prime(num):\n",
    "    if num < 2:\n",
    "        return False\n",
    "    for i in range(2, int(num**0.5) + 1):\n",
    "        if num % i == 0:\n",
    "            return False\n",
    "    return True\n",
    "\n",
    "numbers = [1, 2, 3, 4, 5, 6, 7, 8, 9, 10]\n",
    "primes = list(filter(is_prime, numbers))\n",
    "print(primes)  # Output: [2, 3, 5, 7]\n"
   ]
  },
  {
   "cell_type": "code",
   "execution_count": null,
   "id": "38e6e639-df6c-406f-af24-276e7e601085",
   "metadata": {},
   "outputs": [],
   "source": [
    "#(Answer21)\n",
    "sum_numbers = lambda x, y: x + y\n",
    "print(sum_numbers(3, 5))  # Output: 8\n"
   ]
  },
  {
   "cell_type": "code",
   "execution_count": null,
   "id": "0e5415f9-7b67-47d5-a2e4-67dc19e739c6",
   "metadata": {},
   "outputs": [],
   "source": [
    "#(Answer22)\n",
    "square = lambda x: x * x\n",
    "print(square(4))  # Output: 16\n"
   ]
  },
  {
   "cell_type": "code",
   "execution_count": null,
   "id": "3db22e7b-9a71-479b-a013-4444846600c6",
   "metadata": {},
   "outputs": [],
   "source": [
    "#(Answer23)\n",
    "is_even = lambda x: x % 2 == 0\n",
    "print(is_even(4))  # Output: True\n",
    "print(is_even(5))  # Output: False\n"
   ]
  },
  {
   "cell_type": "code",
   "execution_count": null,
   "id": "bbb18280-a4ba-440c-9771-ef7b333927d6",
   "metadata": {},
   "outputs": [],
   "source": [
    "#(Answer24)\n",
    "concatenate = lambda a, b: a + b\n",
    "print(concatenate(\"Hello\", \"World\"))  # Output: HelloWorld\n"
   ]
  },
  {
   "cell_type": "code",
   "execution_count": null,
   "id": "782352a2-3c1c-416c-b17f-d5da2a0cefa1",
   "metadata": {},
   "outputs": [],
   "source": [
    "#(Answer25)\n",
    "max_of_three = lambda a, b, c: max(a, b, c)\n",
    "print(max_of_three(3, 7, 5))  # Output: 7\n"
   ]
  },
  {
   "cell_type": "markdown",
   "id": "69c49ee8-bd2e-4ebe-9e2d-e04ad92d35b4",
   "metadata": {},
   "source": [
    "(Answer27)\n",
    "Encapsulation in Object-Oriented Programming (OOP) is the practice of bundling the data (attributes)\n",
    "and methods (functions) that operate on the data into a single unit or class. It restricts direct access\n",
    "to some of an object's components, which is achieved through access modifiers like private,\n",
    "protected, and public. This controlled access helps maintain data integrity and hide the internal\n",
    "implementation details from the outside world, ensuring that objects can only be manipulated\n",
    "through their defined interfaces."
   ]
  },
  {
   "cell_type": "markdown",
   "id": "78049f69-8d30-4ba6-a401-0a7e86a5afe5",
   "metadata": {},
   "source": [
    "(Answer28)\n",
    "Access modifiers define the accessibility of class members:\n",
    "• Public: Accessible from anywhere.\n",
    "• Protected: Accessible within the class and subclasses (_variable).\n",
    "• Private: Accessible only within the class (__variable)."
   ]
  },
  {
   "cell_type": "markdown",
   "id": "9fd48a9b-21fa-4d49-968c-05a88cf01682",
   "metadata": {},
   "source": [
    "(Answer29)\n",
    "Inheritance is a mechanism where a new class (subclass) inherits properties and behavior (methods)\n",
    "from an existing class (superclass)."
   ]
  },
  {
   "cell_type": "markdown",
   "id": "0624d508-2d97-4df8-84d2-30ec4fe311e3",
   "metadata": {},
   "source": [
    "(Answer30)\n",
    "Polymorphism allows methods to do different things based on the object it is acting upon. It enables\n",
    "objects to be treated as instances of their parent class rather than their actual class."
   ]
  },
  {
   "cell_type": "markdown",
   "id": "72281193-0c55-44ac-a116-3fb0a8a9b8df",
   "metadata": {},
   "source": [
    "(Answer31)\n",
    "Method overriding occurs when a subclass provides a specific implementation of a method that is\n",
    "already defined in its superclass."
   ]
  },
  {
   "cell_type": "code",
   "execution_count": null,
   "id": "5db707f4-b47e-4f6d-9542-cd8993e19d74",
   "metadata": {},
   "outputs": [],
   "source": [
    "#(Answer32)\n",
    "class Animal:\n",
    "    def make_sound(self):\n",
    "        print(\"Generic animal sound\")\n",
    "\n",
    "class Dog(Animal):\n",
    "    def make_sound(self):\n",
    "        print(\"Woof!\")\n",
    "\n",
    "dog = Dog()\n",
    "dog.make_sound()  # Output: Woof!\n"
   ]
  },
  {
   "cell_type": "code",
   "execution_count": null,
   "id": "6e8dbb6c-127e-4d9f-b8be-72b67d2eca89",
   "metadata": {},
   "outputs": [],
   "source": [
    "#(Answer33)\n",
    "class Animal:\n",
    "    def move(self):\n",
    "        print(\"Animal moves\")\n",
    "\n",
    "class Dog(Animal):\n",
    "    def move(self):\n",
    "        print(\"Dog runs\")\n",
    "\n",
    "dog = Dog()\n",
    "dog.move()  # Output: Dog runs\n"
   ]
  },
  {
   "cell_type": "code",
   "execution_count": null,
   "id": "f82d3753-2956-440b-8564-8e02628245fd",
   "metadata": {},
   "outputs": [],
   "source": [
    "#(Answer34)\n",
    "class Animal:\n",
    "    def move(self):\n",
    "        print(\"Animal moves\")\n",
    "\n",
    "class Dog(Animal):\n",
    "    def move(self):\n",
    "        print(\"Dog runs\")\n",
    "\n",
    "class Mammal:\n",
    "    def reproduce(self):\n",
    "        print(\"Giving birth to live young\")\n",
    "\n",
    "class DogMammal(Dog, Mammal):\n",
    "    pass\n",
    "\n",
    "dog_mammal = DogMammal()\n",
    "dog_mammal.reproduce()  # Output: Giving birth to live young\n",
    "dog_mammal.make_sound()  # Output: Woof!\n",
    "dog_mammal.move()  # Output: Dog runs\n"
   ]
  },
  {
   "cell_type": "code",
   "execution_count": null,
   "id": "b54a53a4-7240-4e6f-a326-681c3685898b",
   "metadata": {},
   "outputs": [],
   "source": [
    "#(Answer35)\n",
    "class Animal:\n",
    "    def move(self):\n",
    "        print(\"Animal moves\")\n",
    "\n",
    "class Dog(Animal):\n",
    "    def move(self):\n",
    "        print(\"Dog runs\")\n",
    "\n",
    "class GermanShepherd(Dog):\n",
    "    def make_sound(self):\n",
    "        print(\"Bark!\")\n",
    "\n",
    "german_shepherd = GermanShepherd()\n",
    "german_shepherd.make_sound()  # Output: Bark!\n"
   ]
  },
  {
   "cell_type": "code",
   "execution_count": null,
   "id": "71cb4693-aa0c-4e1d-bba8-a38d7bc30537",
   "metadata": {},
   "outputs": [],
   "source": [
    "#(Answer36)\n",
    "class Animal:\n",
    "    def __init__(self, species):\n",
    "        self.species = species\n",
    "\n",
    "    def make_sound(self):\n",
    "        print(\"Generic animal sound\")\n",
    "\n",
    "class Dog(Animal):\n",
    "    def __init__(self, breed, species=\"Dog\"):\n",
    "        super().__init__(species)\n",
    "        self.breed = breed\n",
    "\n",
    "    def make_sound(self):\n",
    "        print(\"Woof!\")\n",
    "\n",
    "dog = Dog(breed=\"Labrador\")\n",
    "print(dog.species)  # Output: Dog\n",
    "print(dog.breed)  # Output: Labrador\n"
   ]
  },
  {
   "cell_type": "markdown",
   "id": "a2a99a18-c94b-40e0-a6f1-175291f6e0ab",
   "metadata": {},
   "source": [
    "(Answer37)\n",
    "Abstraction is the process of hiding the complex implementation details and showing only the\n",
    "necessary features of an object. It is implemented using abstract classes and methods (with the help\n",
    "of the abc module)."
   ]
  },
  {
   "cell_type": "markdown",
   "id": "49bb6a70-770b-4b53-ab0d-f6c8e5478563",
   "metadata": {},
   "source": [
    "(Answer38)\n",
    "Abstraction reduces complexity and increases efficiency by hiding unnecessary details and exposing\n",
    "only the essential features. It allows for a more organized and structured codebase, making it easier\n",
    "to manage and maintain."
   ]
  },
  {
   "cell_type": "markdown",
   "id": "62546462-584f-43d1-be37-e5e8b43994af",
   "metadata": {},
   "source": [
    "(Answer39)\n",
    "Abstract methods are declared in an abstract class and must be implemented in derived classes.\n",
    "Regular methods have a body with implementation and can be directly used."
   ]
  },
  {
   "cell_type": "markdown",
   "id": "40e7bc1c-c2fd-425f-a186-3eaa40a544e3",
   "metadata": {},
   "source": [
    "(Answer40)\n",
    "Abstraction can be achieved using interfaces, which are defined using abstract base classes with\n",
    "abstract methods. Derived classes must implement these methods."
   ]
  },
  {
   "cell_type": "code",
   "execution_count": null,
   "id": "47077c22-ebc6-44fb-b244-6f5bbfcb99b6",
   "metadata": {},
   "outputs": [],
   "source": [
    "#(Answer41)\n",
    "from abc import ABC, abstractmethod\n",
    "\n",
    "class Shape(ABC):\n",
    "    @abstractmethod\n",
    "    def area(self):\n",
    "        pass\n",
    "\n",
    "class Circle(Shape):\n",
    "    def __init__(self, radius):\n",
    "        self.radius = radius\n",
    "\n",
    "    def area(self):\n",
    "        return 3.14 * self.radius * self.radius\n",
    "\n",
    "class Square(Shape):\n",
    "    def __init__(self, side):\n",
    "        self.side = side\n",
    "\n",
    "    def area(self):\n",
    "        return self.side * self.side\n",
    "\n",
    "shapes = [Circle(5), Square(4)]\n",
    "\n",
    "for shape in shapes:\n",
    "    print(shape.area())  # Output: 78.5, 16\n"
   ]
  },
  {
   "cell_type": "markdown",
   "id": "56d80cd6-80b6-4f00-af64-ad18f0355894",
   "metadata": {},
   "source": [
    "(Answer42)\n",
    "Python achieves polymorphism through method overriding by allowing a subclass to provide a\n",
    "specific implementation of a method that is already defined in its superclass."
   ]
  },
  {
   "cell_type": "code",
   "execution_count": null,
   "id": "9afadea8-3fb2-49d4-851e-c7a3fcf756e6",
   "metadata": {},
   "outputs": [],
   "source": [
    "#(Answer43)\n",
    "class Animal:\n",
    "    def make_sound(self):\n",
    "        print(\"Generic animal sound\")\n",
    "\n",
    "class Dog(Animal):\n",
    "    def make_sound(self):\n",
    "        print(\"Woof!\")\n",
    "\n",
    "dog = Dog()\n",
    "dog.make_sound()  # Output: Woof!\n"
   ]
  },
  {
   "cell_type": "code",
   "execution_count": null,
   "id": "f3d75ce2-7b2d-4ec8-a055-60d05c442ad5",
   "metadata": {},
   "outputs": [],
   "source": [
    "#(Answer44)\n",
    "class Animal:\n",
    "    def make_sound(self):\n",
    "        print(\"Generic animal sound\")\n",
    "\n",
    "class Dog(Animal):\n",
    "    def make_sound(self):\n",
    "        print(\"Woof!\")\n",
    "\n",
    "class Cat(Animal):\n",
    "    def make_sound(self):\n",
    "        print(\"Meow!\")\n",
    "\n",
    "animals = [Dog(), Cat()]\n",
    "\n",
    "for animal in animals:\n",
    "    animal.make_sound()  # Output: Woof! Meow!\n"
   ]
  },
  {
   "cell_type": "markdown",
   "id": "67e37d2e-73cc-4017-9dc2-382c67f6c07b",
   "metadata": {},
   "source": [
    "(Answer45)\n",
    "Polymorphism improves code readability and reusability by allowing the same interface to be used\n",
    "for different underlying forms (data types). It enables writing more generic and reusable code."
   ]
  },
  {
   "cell_type": "markdown",
   "id": "bec990de-cb1b-4d51-a795-6054b6455289",
   "metadata": {},
   "source": [
    "(Answer46)\n",
    "Python supports polymorphism with duck typing, which means that the type or class of an object is\n",
    "less important than the methods it defines. If an object implements the methods expected of it, it\n",
    "can be used in place of any other with similar behavior."
   ]
  },
  {
   "cell_type": "code",
   "execution_count": null,
   "id": "732665ff-80eb-4fa5-aebf-c6f95c2c66d2",
   "metadata": {},
   "outputs": [],
   "source": [
    "#(Answer47)\n",
    "# Encapsulation is achieved in Python by using private attributes (with double underscores) and\n",
    "# providing public methods to access and modify them.\n",
    "class BankAccount:\n",
    "def __init__(self, balance):\n",
    "self.__balance = balance\n",
    "\n",
    "def deposit(self, amount):\n",
    "self.__balance += amount\n",
    "\n",
    "def withdraw(self, amount):\n",
    "if amount <= self.__balance:\n",
    "self.__balance -= amount\n",
    "else:\n",
    "print(\"Insufficient funds\")\n",
    "\n",
    "def check_balance(self):\n",
    "return self.__balance\n",
    "\n",
    "account = BankAccount(1000)\n",
    "account.deposit(500)\n",
    "print(account.check_balance()) # Output: 1500\n",
    "account.withdraw(300)\n",
    "print(account.check_balance()) # Output: 1200"
   ]
  },
  {
   "cell_type": "code",
   "execution_count": null,
   "id": "b9897205-0adf-4b17-bcd2-41b3826cc98b",
   "metadata": {},
   "outputs": [],
   "source": [
    "#(Answer48)\n",
    "# Encapsulation can be bypassed in Python by directly accessing the private attributes using name\n",
    "# mangling. This is done by using the class name and the private attribute name.\n",
    "class BankAccount:\n",
    "def __init__(self, balance):\n",
    "self.__balance = balance\n",
    "\n",
    "account = BankAccount(1000)\n",
    "print(account._BankAccount__balance) # Output: 1000"
   ]
  },
  {
   "cell_type": "code",
   "execution_count": null,
   "id": "35bd90dc-68cd-4fa2-8890-286612f76dcd",
   "metadata": {},
   "outputs": [],
   "source": [
    "#(Answer49)\n",
    "class BankAccount:\n",
    "    def __init__(self, balance=0):\n",
    "        self.__balance = balance\n",
    "\n",
    "    def deposit(self, amount):\n",
    "        self.__balance += amount\n",
    "\n",
    "    def withdraw(self, amount):\n",
    "        if amount <= self.__balance:\n",
    "            self.__balance -= amount\n",
    "        else:\n",
    "            print(\"Insufficient funds\")\n",
    "\n",
    "    def check_balance(self):\n",
    "        return self.__balance\n",
    "\n",
    "account = BankAccount(1000)\n",
    "account.deposit(500)\n",
    "print(account.check_balance())  # Output: 1500\n",
    "account.withdraw(300)\n",
    "print(account.check_balance())  # Output: 1200\n"
   ]
  },
  {
   "cell_type": "code",
   "execution_count": null,
   "id": "edacba9a-d1d7-4a29-8532-f393e72de0e2",
   "metadata": {},
   "outputs": [],
   "source": [
    "#(Answer50)\n",
    "class Person:\n",
    "    def __init__(self, name, email):\n",
    "        self.__name = name\n",
    "        self.__email = email\n",
    "\n",
    "    @property\n",
    "    def email(self):\n",
    "        return self.__email\n",
    "\n",
    "    @email.setter\n",
    "    def email(self, value):\n",
    "        if \"@\" not in value:\n",
    "            raise ValueError(\"Invalid email address\")\n",
    "        self._email = value\n",
    "\n",
    "    def get_name(self):\n",
    "        return self.__name\n",
    "\n",
    "# Example usage\n",
    "person = Person(\"Alice\", \"alice@example.com\")\n",
    "print(person.email)  # Output: alice@example.com\n",
    "\n",
    "person.email = \"alice@newdomain.com\"\n",
    "print(person.email)  # Output: alice@newdomain.com\n",
    "\n",
    "try:\n",
    "    person.email = \"invalidemail\"  # Raises ValueError: Invalid email address\n",
    "except ValueError as e:\n",
    "    print(e)\n"
   ]
  },
  {
   "cell_type": "markdown",
   "id": "7d49e340-b7ae-4a52-8250-7b2c7ba3becd",
   "metadata": {},
   "source": [
    "(Answer51)\n",
    "Encapsulation is a core principle of OOP that restricts direct access to an object's data and methods,\n",
    "providing controlled interfaces for interaction. This ensures data integrity, improves modularity, and\n",
    "enhances maintainability by hiding internal implementation details and exposing only necessary\n",
    "functionalities. By safeguarding internal states and facilitating cleaner code organization,\n",
    "encapsulation significantly contributes to the robustness and flexibility of software design."
   ]
  },
  {
   "cell_type": "code",
   "execution_count": null,
   "id": "ce21b529-b2e3-43c1-b545-b7ff7f8c6110",
   "metadata": {},
   "outputs": [],
   "source": [
    "#(Answer52)\n",
    "def my_decorator(func):\n",
    "    def wrapper():\n",
    "        print(\"Something is happening before the function is called.\")\n",
    "        func()\n",
    "        print(\"Something is happening after the function is called.\")\n",
    "    return wrapper\n",
    "\n",
    "@my_decorator\n",
    "def say_hello():\n",
    "    print(\"Hello!\")\n",
    "\n",
    "say_hello()\n"
   ]
  },
  {
   "cell_type": "code",
   "execution_count": null,
   "id": "ee468d06-94e0-4e2a-8294-2c53709cbc9c",
   "metadata": {},
   "outputs": [],
   "source": [
    "#(Answer53)\n",
    "def my_decorator(func):\n",
    "    def wrapper(*args, **kwargs):\n",
    "        print(f\"Function {func.__name__} is about to be called\")\n",
    "        result = func(*args, **kwargs)\n",
    "        print(f\"Function {func.__name__} has been called\")\n",
    "        return result\n",
    "    return wrapper\n",
    "\n",
    "@my_decorator\n",
    "def say_hello(name):\n",
    "    print(f\"Hello, {name}!\")\n",
    "\n",
    "say_hello(\"Alice\")\n"
   ]
  },
  {
   "cell_type": "code",
   "execution_count": null,
   "id": "c54ad16f-7894-4fa4-b5fd-c2db37100c00",
   "metadata": {},
   "outputs": [],
   "source": [
    "#(Answer54)\n",
    "def decorator_one(func):\n",
    "    def wrapper(*args, **kwargs):\n",
    "        print(\"Decorator one before\")\n",
    "        result = func(*args, **kwargs)\n",
    "        print(\"Decorator one after\")\n",
    "        return result\n",
    "    return wrapper\n",
    "\n",
    "def decorator_two(func):\n",
    "    def wrapper(*args, **kwargs):\n",
    "        print(\"Decorator two before\")\n",
    "        result = func(*args, **kwargs)\n",
    "        print(\"Decorator two after\")\n",
    "        return result\n",
    "    return wrapper\n",
    "\n",
    "@decorator_one\n",
    "@decorator_two\n",
    "def say_hello(name):\n",
    "    print(f\"Hello, {name}!\")\n",
    "\n",
    "say_hello(\"Alice\")\n"
   ]
  },
  {
   "cell_type": "code",
   "execution_count": null,
   "id": "f14847b1-807f-4272-a007-ead388888e0e",
   "metadata": {},
   "outputs": [],
   "source": [
    "#(Answer55)\n",
    "def my_decorator(func):\n",
    "    def wrapper(*args, **kwargs):\n",
    "        print(f\"Calling function {func.__name__} with arguments {args} and {kwargs}\")\n",
    "        result = func(*args, **kwargs)\n",
    "        print(f\"Function {func.__name__} called\")\n",
    "        return result\n",
    "    return wrapper\n",
    "\n",
    "@my_decorator\n",
    "def say_hello(name, age=None):\n",
    "    if age:\n",
    "        print(f\"Hello, {name}. You are {age} years old.\")\n",
    "    else:\n",
    "        print(f\"Hello, {name}!\")\n",
    "\n",
    "say_hello(\"Alice\", age=30)\n"
   ]
  },
  {
   "cell_type": "code",
   "execution_count": null,
   "id": "624785bd-2457-49bf-b09a-e3eb66e25f5f",
   "metadata": {},
   "outputs": [],
   "source": [
    "#(Answer56)\n",
    "from functools import wraps\n",
    "\n",
    "def my_decorator(func):\n",
    "    @wraps(func)\n",
    "    def wrapper(*args, **kwargs):\n",
    "        print(\"Something is happening before the function is called.\")\n",
    "        result = func(*args, **kwargs)\n",
    "        print(\"Something is happening after the function is called.\")\n",
    "        return result\n",
    "    return wrapper\n",
    "\n",
    "@my_decorator\n",
    "def say_hello(name):\n",
    "    \"\"\"This function says hello to a person.\"\"\"\n",
    "    print(f\"Hello, {name}!\")\n",
    "\n",
    "print(say_hello.__name__)  # Output: say_hello\n",
    "print(say_hello.__doc__)   # Output: This function says hello to a person.\n"
   ]
  },
  {
   "cell_type": "code",
   "execution_count": null,
   "id": "1327d72c-bbe9-4b83-abee-cb1410e93b43",
   "metadata": {},
   "outputs": [],
   "source": [
    "#(Answer57)\n",
    "class Calculator:\n",
    "    @staticmethod\n",
    "    def add(a, b):\n",
    "        return a + b\n",
    "\n",
    "print(Calculator.add(5, 7))  # Output: 12\n"
   ]
  },
  {
   "cell_type": "code",
   "execution_count": null,
   "id": "53c9994f-6cf1-4413-aaa4-18d0cdb671b3",
   "metadata": {},
   "outputs": [],
   "source": [
    "#(Answer58)\n",
    "class Employee:\n",
    "    employee_count = 0\n",
    "\n",
    "    def __init__(self, name):\n",
    "        self.name = name\n",
    "        Employee.employee_count += 1\n",
    "\n",
    "    @classmethod\n",
    "    def get_employee_count(cls):\n",
    "        return cls.employee_count\n",
    "\n",
    "emp1 = Employee(\"John\")\n",
    "emp2 = Employee(\"Jane\")\n",
    "print(Employee.get_employee_count())  # Output: 2\n"
   ]
  },
  {
   "cell_type": "code",
   "execution_count": null,
   "id": "09248601-6a2c-4bb0-bda5-9658f380c84e",
   "metadata": {},
   "outputs": [],
   "source": [
    "#(Answer59)\n",
    "class StringFormatter:\n",
    "    @staticmethod\n",
    "    def reverse_string(s):\n",
    "        return s[::-1]\n",
    "\n",
    "print(StringFormatter.reverse_string(\"hello\"))  # Output: \"olleh\"\n"
   ]
  },
  {
   "cell_type": "code",
   "execution_count": null,
   "id": "a40845f1-3291-4f32-8a17-802846fe3678",
   "metadata": {},
   "outputs": [],
   "source": [
    "#(Answer60)\n",
    "import math\n",
    "\n",
    "class Circle:\n",
    "    def __init__(self, radius):\n",
    "        self.radius = radius\n",
    "\n",
    "    @classmethod\n",
    "    def calculate_area(cls, radius):\n",
    "        return math.pi * (radius ** 2)\n",
    "\n",
    "print(Circle.calculate_area(5))  # Output: 78.53981633974483\n"
   ]
  },
  {
   "cell_type": "code",
   "execution_count": null,
   "id": "a7c4903b-eec8-4982-8292-7f4500da0e85",
   "metadata": {},
   "outputs": [],
   "source": [
    "#(Answer61)\n",
    "class TemperatureConverter:\n",
    "    @staticmethod\n",
    "    def celsius_to_fahrenheit(celsius):\n",
    "        return (celsius * 9/5) + 32\n",
    "\n",
    "print(TemperatureConverter.celsius_to_fahrenheit(0))  # Output: 32.0\n"
   ]
  },
  {
   "cell_type": "code",
   "execution_count": null,
   "id": "3d2997e6-450f-4f53-9049-0541ad6e8c22",
   "metadata": {},
   "outputs": [],
   "source": [
    "#(Answer62)\n",
    "''' The __str__() method in Python is used to define a human-readable string representation of an\n",
    " object. It is called by the str() function and by the print statement.'''\n",
    "class Person:\n",
    "def __init__(self, name, age):\n",
    "self.name = name\n",
    "self.age = age\n",
    "\n",
    "def __str__(self):\n",
    "return f\"{self.name}, {self.age} years old\"\n",
    "\n",
    "person = Person(\"Alice\", 30)\n",
    "print(person) # Output: Alice, 30 years old"
   ]
  },
  {
   "cell_type": "code",
   "execution_count": null,
   "id": "8d12ca72-7419-44e8-90f2-2212ef28e624",
   "metadata": {},
   "outputs": [],
   "source": [
    "#(Answer63)\n",
    "''' The __len__() method is used to define the behavior of the built-in len() function. It returns the\n",
    " length of an object.'''\n",
    "class MyList:\n",
    "def __init__(self, data):\n",
    "self.data = data\n",
    "\n",
    "def __len__(self):\n",
    "return len(self.data)\n",
    "\n",
    "my_list = MyList([1, 2, 3, 4])\n",
    "print(len(my_list)) # Output: 4"
   ]
  },
  {
   "cell_type": "code",
   "execution_count": null,
   "id": "8c15d5c5-b316-42d1-9958-e7bd380f43d3",
   "metadata": {},
   "outputs": [],
   "source": [
    "#(Answer64)\n",
    "# The __add__() method is used to define the behavior of the addition operator + for instances of a\n",
    "class.\n",
    "class Vector:\n",
    "def __init__(self, x, y):\n",
    "self.x = x\n",
    "self.y = y\n",
    "\n",
    "def __add__(self, other):\n",
    "return Vector(self.x + other.x, self.y + other.y)\n",
    "\n",
    "def __str__(self):\n",
    "return f\"({self.x}, {self.y})\"\n",
    "\n",
    "v1 = Vector(2, 3)\n",
    "v2 = Vector(4, 5)\n",
    "v3 = v1 + v2\n",
    "print(v3) # Output: (6, 8)"
   ]
  },
  {
   "cell_type": "code",
   "execution_count": null,
   "id": "c78369e2-22e1-4d79-a62d-668e5ec2fecf",
   "metadata": {},
   "outputs": [],
   "source": [
    "#(Answer65)\n",
    "''' The __getitem__() method allows an instance of a class to use the indexing syntax (obj[key]) to\n",
    " access its items.'''\n",
    "class MyDict:\n",
    "def __init__(self):\n",
    "self.data = {}\n",
    "\n",
    "def __getitem__(self, key):\n",
    "return self.data[key]\n",
    "\n",
    "def __setitem__(self, key, value):\n",
    "self.data[key] = value\n",
    "\n",
    "my_dict = MyDict()\n",
    "my_dict[\"name\"] = \"Alice\"\n",
    "print(my_dict[\"name\"]) # Output: Alice"
   ]
  },
  {
   "cell_type": "code",
   "execution_count": null,
   "id": "9bbcc4d1-5bde-4d82-913d-9bbc52ff3ef7",
   "metadata": {},
   "outputs": [],
   "source": [
    "#(Answer66)\n",
    "''' The __iter__() method returns the iterator object itself and is implicitly called at the start of loops.\n",
    " The __next__() method returns the next value from the iterator and is implicitly called at each loop\n",
    " increment.'''\n",
    "class MyRange:\n",
    "def __init__(self, start, end):\n",
    "self.start = start\n",
    "self.end = end\n",
    "\n",
    "def __iter__(self):\n",
    "self.current = self.start\n",
    "return self\n",
    "\n",
    "def __next__(self):\n",
    "if self.current >= self.end:\n",
    "raise StopIteration\n",
    "self.current += 1\n",
    "return self.current - 1\n",
    "\n",
    "for num in MyRange(1, 5):\n",
    "print(num)\n",
    "# Output: 1 2 3 4"
   ]
  },
  {
   "cell_type": "code",
   "execution_count": null,
   "id": "c1eb2d7f-12ef-4c68-b30c-3bc292938132",
   "metadata": {},
   "outputs": [],
   "source": [
    "#(Answer67)\n",
    "''' A getter method is used to access the value of a private attribute. Property decorators make it easier\n",
    " to define getters.'''\n",
    "class Person:\n",
    "def __init__(self, name):\n",
    "self._name = name\n",
    "\n",
    "@property\n",
    "def name(self):\n",
    "return self._name\n",
    "\n",
    "person = Person(\"Alice\")\n",
    "print(person.name) # Output: Alice"
   ]
  },
  {
   "cell_type": "code",
   "execution_count": null,
   "id": "733e09ba-8756-4dfe-a94c-97c247d35fa7",
   "metadata": {},
   "outputs": [],
   "source": [
    "#(Answer68)\n",
    "''' A setter method is used to set or update the value of a private attribute. Property decorators make it\n",
    " easier to define setters. '''\n",
    "class Person:\n",
    "def __init__(self, name):\n",
    "self._name = name\n",
    "\n",
    "@property\n",
    "def name(self):\n",
    "return self._name\n",
    "\n",
    "@name.setter\n",
    "\n",
    "def name(self, value):\n",
    "if not value:\n",
    "raise ValueError(\"Name cannot be empty\")\n",
    "self._name = value\n",
    "\n",
    "person = Person(\"Alice\")\n",
    "person.name = \"Bob\"\n",
    "print(person.name) # Output: Bob"
   ]
  },
  {
   "cell_type": "code",
   "execution_count": null,
   "id": "4a28877e-9bb2-4421-845f-a73502511459",
   "metadata": {},
   "outputs": [],
   "source": [
    "#(Answer69)\n",
    "\"\"\" The @property decorator in Python is used to define getter methods for class attributes. It allows for\n",
    "controlled access to the attributes, providing a way to get the attribute's value while keeping the\n",
    "actual attribute private. This promotes encapsulation and data hiding. \"\"\"\n",
    "class Person:\n",
    "def __init__(self, name):\n",
    "self._name = name # Private attribute\n",
    "\n",
    "@property\n",
    "def name(self):\n",
    "return self._name\n",
    "\n",
    "@name.setter\n",
    "def name(self, value):\n",
    "if not value:\n",
    "raise ValueError(\"Name cannot be empty\")\n",
    "self._name = value\n",
    "\n",
    "# Usage\n",
    "person = Person(\"Alice\")\n",
    "print(person.name) # Output: Alice\n",
    "person.name = \"Bob\"\n",
    "print(person.name) # Output: Bob"
   ]
  },
  {
   "cell_type": "code",
   "execution_count": null,
   "id": "91316b74-7730-4d1e-9fd4-f706e0e80f26",
   "metadata": {},
   "outputs": [],
   "source": [
    "#(Answer70)\n",
    "\"\"\" The @property decorator can also be used with a @deleter decorator to define a method that\n",
    "deletes an attribute. This allows for the encapsulated management of attribute deletion, ensuring\n",
    "that any necessary cleanup or validation logic is executed. \"\"\"\n",
    "class Person:\n",
    "def __init__(self, name):\n",
    "self._name = name # Private attribute\n",
    "\n",
    "@property\n",
    "def name(self):\n",
    "return self._name\n",
    "\n",
    "@name.setter\n",
    "def name(self, value):\n",
    "if not value:\n",
    "raise ValueError(\"Name cannot be empty\")\n",
    "self._name = value\n",
    "\n",
    "@name.deleter\n",
    "def name(self):\n",
    "print(f\"Deleting name: {self._name}\")\n",
    "del self._name\n",
    "\n",
    "# Usage\n",
    "person = Person(\"Alice\")\n",
    "print(person.name) # Output: Alice\n",
    "del person.name # Output: Deleting name: Alice"
   ]
  },
  {
   "cell_type": "code",
   "execution_count": null,
   "id": "5e7bc804-7dae-453b-a0e9-fab4288b7941",
   "metadata": {},
   "outputs": [],
   "source": [
    "#(Answer71)\n",
    "\"\"\" Encapsulation is the practice of restricting access to an object's internal state and requiring all\n",
    "interaction to occur through well-defined interfaces. Property decorators in Python help achieve\n",
    "encapsulation by providing controlled access to class attributes, ensuring that the internal state can\n",
    "be accessed and modified only through getter, setter, and deleter methods.\n",
    "\"\"\"\n",
    "class BankAccount:\n",
    "def __init__(self, initial_balance=0):\n",
    "self._balance = initial_balance # Private attribute\n",
    "\n",
    "@property\n",
    "def balance(self):\n",
    "return self._balance\n",
    "\n",
    "@balance.setter\n",
    "def balance(self, amount):\n",
    "if amount < 0:\n",
    "raise ValueError(\"Balance cannot be negative\")\n",
    "self._balance = amount\n",
    "\n",
    "@balance.deleter\n",
    "def balance(self):\n",
    "print(f\"Deleting balance: {self._balance}\")\n",
    "del self._balance\n",
    "\n",
    "# Usage\n",
    "account = BankAccount(100)\n",
    "print(account.balance) # Output: 100\n",
    "account.balance = 150\n",
    "print(account.balance) # Output: 150\n",
    "\n",
    "try:\n",
    "account.balance = -50 # Raises ValueError: Balance cannot be negative\n",
    "except ValueError as e:\n",
    "print(e)\n",
    "\n",
    "del account.balance # Output: Deleting balance: 150"
   ]
  },
  {
   "cell_type": "code",
   "execution_count": null,
   "id": "c119cca2-9757-4c53-8177-14d8ae05c80b",
   "metadata": {},
   "outputs": [],
   "source": []
  },
  {
   "cell_type": "code",
   "execution_count": null,
   "id": "3db595d6-e157-4ad8-8ca6-0e984044cab4",
   "metadata": {},
   "outputs": [],
   "source": []
  }
 ],
 "metadata": {
  "kernelspec": {
   "display_name": "Python 3 (ipykernel)",
   "language": "python",
   "name": "python3"
  },
  "language_info": {
   "codemirror_mode": {
    "name": "ipython",
    "version": 3
   },
   "file_extension": ".py",
   "mimetype": "text/x-python",
   "name": "python",
   "nbconvert_exporter": "python",
   "pygments_lexer": "ipython3",
   "version": "3.10.0"
  }
 },
 "nbformat": 4,
 "nbformat_minor": 5
}
