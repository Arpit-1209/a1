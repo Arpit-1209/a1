{
 "cells": [
  {
   "cell_type": "code",
   "execution_count": null,
   "id": "81ce073a-2ccc-4518-95aa-0fa1095d0459",
   "metadata": {},
   "outputs": [],
   "source": [
    "#(Ans1)\n",
    "with open('example.txt', 'r') as file:\n",
    "    contents = file.read()\n",
    "    print(contents)\n"
   ]
  },
  {
   "cell_type": "code",
   "execution_count": null,
   "id": "32fa1568-f272-41dd-b718-81d774684528",
   "metadata": {},
   "outputs": [],
   "source": [
    "#(Ans2)\n",
    "with open('example.txt', 'w') as file:\n",
    "    file.write('Hello, world!')\n"
   ]
  },
  {
   "cell_type": "code",
   "execution_count": null,
   "id": "888d8ea1-b6b8-4f9f-a5d5-91bbf05e666d",
   "metadata": {},
   "outputs": [],
   "source": [
    "#(Ans3)\n",
    "with open('example.txt', 'a') as file:\n",
    "    file.write('Appending this text.')\n"
   ]
  },
  {
   "cell_type": "code",
   "execution_count": null,
   "id": "b67b7633-1248-4740-8254-99ff41ce7835",
   "metadata": {},
   "outputs": [],
   "source": [
    "#(Ans4)\n",
    "with open('example.bin', 'rb') as file:\n",
    "    contents = file.read()\n",
    "    print(contents)\n"
   ]
  },
  {
   "cell_type": "markdown",
   "id": "d0a8463f-72ab-4d8f-9524-03030039479d",
   "metadata": {},
   "source": [
    "(Ans5)\n",
    "If you don't use the with keyword, you need to manually close the file using file.close() to release the\n",
    "resources. Not closing the file can lead to memory leaks and other issues."
   ]
  },
  {
   "cell_type": "markdown",
   "id": "eb20f86d-3e82-43cf-951b-455ec0539fde",
   "metadata": {},
   "source": [
    "(Ans6)\n",
    "Buffering refers to the practice of holding data in a temporary storage area (the buffer) before it's\n",
    "written to or read from the file. It improves performance by reducing the number of system calls,\n",
    "allowing for more efficient bulk data transfer."
   ]
  },
  {
   "cell_type": "markdown",
   "id": "871490a1-8b80-4d66-b605-5e1d2299ac2b",
   "metadata": {},
   "source": [
    "(Ans7)\n",
    "Open the file with buffering enabled.\n",
    "Perform read/write operations on the file.\n",
    "Ensure the buffer is flushed, either manually or automatically when the file is closed."
   ]
  },
  {
   "cell_type": "code",
   "execution_count": null,
   "id": "62b6b573-52e6-4d7a-bc78-469589bac13f",
   "metadata": {},
   "outputs": [],
   "source": [
    "#(Ans8)\n",
    "def read_file_buffered(file_path):\n",
    "    with open(file_path, 'r', buffering=8192) as file:\n",
    "        return file.read()\n"
   ]
  },
  {
   "cell_type": "markdown",
   "id": "be2377f6-0000-488c-89b3-a72ff335e07d",
   "metadata": {},
   "source": [
    "(Ans9)\n",
    "Buffered reading reduces the number of I/O operations, which can significantly improve\n",
    "performance, especially when dealing with large files or slow storage devices."
   ]
  },
  {
   "cell_type": "code",
   "execution_count": null,
   "id": "b620a352-ab62-4e17-9150-583db249c125",
   "metadata": {},
   "outputs": [],
   "source": [
    "#(Ans10)\n",
    "with open('example.txt', 'a', buffering=8192) as file:\n",
    "    file.write('Buffered append.')\n"
   ]
  },
  {
   "cell_type": "code",
   "execution_count": null,
   "id": "edfaab08-f7f5-402c-b699-8438e2fa80c0",
   "metadata": {},
   "outputs": [],
   "source": [
    "#(Ans11)\n",
    "def close_file_example(file_path):\n",
    "    file = open(file_path, 'w')\n",
    "    file.write('Writing to the file.')\n",
    "    file.close()\n"
   ]
  },
  {
   "cell_type": "code",
   "execution_count": null,
   "id": "ba9b0de1-60bd-4518-879c-c9be4c0ad135",
   "metadata": {},
   "outputs": [],
   "source": [
    "#(Ans12)\n",
    "def detach_file_example(file_path):\n",
    "    with open(file_path, 'wb') as file:\n",
    "        buffer = file.detach()\n",
    "        return buffer\n"
   ]
  },
  {
   "cell_type": "code",
   "execution_count": null,
   "id": "2c4593a4-3ce9-483a-a482-f5235ccad5ac",
   "metadata": {},
   "outputs": [],
   "source": [
    "#(Ans13)\n",
    "def seek_example(file_path):\n",
    "    with open(file_path, 'r') as file:\n",
    "        file.seek(10)\n",
    "        return file.read()\n"
   ]
  },
  {
   "cell_type": "code",
   "execution_count": null,
   "id": "524906de-b170-4619-a5f9-2e95d814255d",
   "metadata": {},
   "outputs": [],
   "source": [
    "#(Ans14)\n",
    "def file_descriptor_example(file_path):\n",
    "    with open(file_path, 'r') as file:\n",
    "        return file.fileno()\n"
   ]
  },
  {
   "cell_type": "code",
   "execution_count": null,
   "id": "099804d0-0c3b-4a32-aac4-648fff033757",
   "metadata": {},
   "outputs": [],
   "source": [
    "#(Ans15)\n",
    "def current_position_example(file_path):\n",
    "    with open(file_path, 'r') as file:\n",
    "        return file.tell()\n"
   ]
  },
  {
   "cell_type": "code",
   "execution_count": null,
   "id": "5684e41c-8b91-4827-ad49-7ff035e026bd",
   "metadata": {},
   "outputs": [],
   "source": [
    "#(Ans16)\n",
    "import logging\n",
    "\n",
    "logging.basicConfig(filename='app.log', level=logging.INFO)\n",
    "logging.info('This is an info message.')\n"
   ]
  },
  {
   "cell_type": "markdown",
   "id": "67b8c76a-79c9-419a-bbd8-f19543baa27a",
   "metadata": {},
   "source": [
    "(Ans17)\n",
    "Logging levels (DEBUG, INFO, WARNING, ERROR, CRITICAL) allow developers to categorize the\n",
    "importance and severity of log messages, enabling better monitoring and troubleshooting."
   ]
  },
  {
   "cell_type": "code",
   "execution_count": null,
   "id": "808ad11e-ca41-44bf-8846-83710e74c69b",
   "metadata": {},
   "outputs": [],
   "source": [
    "#(Ans18)\n",
    "import pdb\n",
    "\n",
    "for i in range(5):\n",
    "    pdb.set_trace()\n",
    "    print(i)\n"
   ]
  },
  {
   "cell_type": "code",
   "execution_count": null,
   "id": "a44e84cb-239c-40b8-a5f2-363947e781a1",
   "metadata": {},
   "outputs": [],
   "source": [
    "#(Ans19)\n",
    "import pdb\n",
    "\n",
    "def debug_example():\n",
    "    a = 10\n",
    "    b = 20\n",
    "    pdb.set_trace()\n",
    "    c = a + b\n",
    "    print(c)\n",
    "\n",
    "debug_example()\n"
   ]
  },
  {
   "cell_type": "code",
   "execution_count": null,
   "id": "a941321a-499f-4037-94a8-cd712e477073",
   "metadata": {},
   "outputs": [],
   "source": [
    "#(Ans20)\n",
    "import pdb\n",
    "\n",
    "def factorial(n):\n",
    "    pdb.set_trace()\n",
    "    if n == 0:\n",
    "        return 1\n",
    "    else:\n",
    "        return n * factorial(n-1)\n",
    "\n",
    "print(factorial(5))\n"
   ]
  },
  {
   "cell_type": "code",
   "execution_count": null,
   "id": "8b8d2dc6-2af6-4fb2-b44a-f9af26ca3c29",
   "metadata": {},
   "outputs": [],
   "source": [
    "#(Ans21)\n",
    "try:\n",
    "    result = 10 / 0\n",
    "except ZeroDivisionError:\n",
    "    print(\"Cannot divide by zero.\")\n"
   ]
  },
  {
   "cell_type": "markdown",
   "id": "07972a15-c8c8-44ea-a75c-7f4a2bc5fedd",
   "metadata": {},
   "source": [
    "(Ans22)\n",
    "The else block executes if the try block does not raise an exception. It is used to run code that\n",
    "should only execute if no errors occur."
   ]
  },
  {
   "cell_type": "code",
   "execution_count": null,
   "id": "63ba59d9-3404-4d24-8b63-05e9dd7697c2",
   "metadata": {},
   "outputs": [],
   "source": [
    "#(Ans23)\n",
    "try:\n",
    "    file = open('example.txt', 'r')\n",
    "except FileNotFoundError:\n",
    "    print(\"File not found.\")\n",
    "else:\n",
    "    print(file.read())\n",
    "    file.close()\n"
   ]
  },
  {
   "cell_type": "markdown",
   "id": "145996c2-c9cb-42f9-84b8-a6e33242fb6e",
   "metadata": {},
   "source": [
    "(Ans24)\n",
    "The finally block ensures that code runs no matter what, even if an exception occurs. It's typically\n",
    "used for cleanup actions like closing files or releasing resources."
   ]
  },
  {
   "cell_type": "code",
   "execution_count": null,
   "id": "7ffb419a-c168-4467-9485-1b0a89763d88",
   "metadata": {},
   "outputs": [],
   "source": [
    "#(Ans25)\n",
    "try:\n",
    "    number = int(\"invalid\")\n",
    "except ValueError:\n",
    "    print(\"ValueError: invalid literal for int()\")\n",
    "finally:\n",
    "    print(\"Execution completed.\")\n"
   ]
  },
  {
   "cell_type": "markdown",
   "id": "a03774c5-6f0c-4dd0-9a0a-d67c5556c86e",
   "metadata": {},
   "source": [
    "(Ans26)\n",
    "Multiple except blocks allow handling different exceptions separately. Python executes the first\n",
    "matching except block for the exception that occurs."
   ]
  },
  {
   "cell_type": "markdown",
   "id": "8b9c99bb-eb79-4ca6-9ad8-d5d14dfe46bf",
   "metadata": {},
   "source": [
    "(Ans27)\n",
    "A custom exception is a user-defined exception derived from the base Exception class. It allows for\n",
    "more specific error handling and clearer code."
   ]
  },
  {
   "cell_type": "code",
   "execution_count": null,
   "id": "cc4c9fc6-d0b8-4343-8773-7c72021cd155",
   "metadata": {},
   "outputs": [],
   "source": [
    "#(Ans28)\n",
    "class CustomError(Exception):\n",
    "    def __init__(self, message):\n",
    "        self.message = message\n",
    "\n",
    "raise CustomError(\"This is a custom error message.\")\n"
   ]
  },
  {
   "cell_type": "code",
   "execution_count": null,
   "id": "a1b69c01-9eb7-4ebb-8d60-6ac1cb7c6c62",
   "metadata": {},
   "outputs": [],
   "source": [
    "#(Ans29)\n",
    "class CustomError(Exception):\n",
    "    def __init__(self, message):\n",
    "        self.message = message\n",
    "\n",
    "raise CustomError(\"This is a custom error message.\")\n"
   ]
  },
  {
   "cell_type": "code",
   "execution_count": null,
   "id": "7444ea44-8f65-49f9-a212-f637b9b63376",
   "metadata": {},
   "outputs": [],
   "source": [
    "#(Ans30)\n",
    "class NegativeValueError(Exception):\n",
    "    pass\n",
    "\n",
    "def check_value(value):\n",
    "    if value < 0:\n",
    "        raise NegativeValueError(\"Value cannot be negative.\")\n",
    "\n",
    "check_value(-10)\n"
   ]
  },
  {
   "cell_type": "markdown",
   "id": "1a8c9e98-60a3-4a4c-93d9-fd6646349b66",
   "metadata": {},
   "source": [
    "(Ans31)\n",
    "try: Code that may raise an exception.\n",
    "except: Code that runs if an exception occurs.\n",
    "else: Code that runs if no exceptions occur.\n",
    "finally: Code that runs no matter what, often for cleanup."
   ]
  },
  {
   "cell_type": "markdown",
   "id": "1885cd5e-cbc4-46ef-8fe4-c13257b64cdf",
   "metadata": {},
   "source": [
    "(Ans32)\n",
    "Custom exceptions make the code more readable and maintainable by providing specific error\n",
    "types that describe the error context clearly, allowing for more precise error handling."
   ]
  },
  {
   "cell_type": "markdown",
   "id": "7f9ff8ba-18d7-4b1b-95c0-b9017a303bed",
   "metadata": {},
   "source": [
    "(Ans33)\n",
    "Multithreading is the concurrent execution of multiple threads (smaller units of a process) to achieve\n",
    "parallelism and improve performance, especially for I/O-bound tasks."
   ]
  },
  {
   "cell_type": "code",
   "execution_count": null,
   "id": "d8183030-41a3-4eea-86a9-089cccffc6dd",
   "metadata": {},
   "outputs": [],
   "source": [
    "#(Ans34)\n",
    "import threading\n",
    "\n",
    "def thread_function():\n",
    "    print(\"Thread is running.\")\n",
    "\n",
    "thread = threading.Thread(target=thread_function)\n",
    "thread.start()\n"
   ]
  },
  {
   "cell_type": "markdown",
   "id": "421f9e4b-e9a4-4800-a8df-74f25ddad1c0",
   "metadata": {},
   "source": [
    "(Ans35)\n",
    "The GIL is a mutex that protects access to Python objects, preventing multiple native threads from\n",
    "\n",
    "executing Python bytecodes simultaneously, which can limit the performance of CPU-bound multi-\n",
    "threaded programs."
   ]
  },
  {
   "cell_type": "code",
   "execution_count": null,
   "id": "8f088cd9-dd2b-4cf2-ab91-01f050650381",
   "metadata": {},
   "outputs": [],
   "source": [
    "#(Ans36)\n",
    "import threading\n",
    "\n",
    "def print_numbers():\n",
    "    for i in range(5):\n",
    "        print(i)\n",
    "\n",
    "thread1 = threading.Thread(target=print_numbers)\n",
    "thread2 = threading.Thread(target=print_numbers)\n",
    "\n",
    "thread1.start()\n",
    "thread2.start()\n",
    "\n",
    "thread1.join()\n",
    "thread2.join()\n"
   ]
  },
  {
   "cell_type": "markdown",
   "id": "91fc3eed-786e-422a-b556-69497793c6d3",
   "metadata": {},
   "source": [
    "(Ans37)\n",
    "The join() method ensures that the program waits for the thread to complete its execution before\n",
    "continuing with the rest of the program, enabling proper synchronization."
   ]
  },
  {
   "cell_type": "markdown",
   "id": "7f1be413-a275-44ac-bd4c-a5ba34c274e1",
   "metadata": {},
   "source": [
    "(Ans38)\n",
    "Multithreading is beneficial in scenarios where a program involves many I/O-bound tasks, such as\n",
    "reading/writing files, network operations, or handling user input, as it allows these tasks to be\n",
    "performed concurrently.\n"
   ]
  },
  {
   "cell_type": "markdown",
   "id": "9d05b82c-fa1a-4b06-bfd1-7a0de44e2baf",
   "metadata": {},
   "source": [
    "(Ans39)\n",
    "Multiprocessing involves running multiple processes simultaneously, each with its own memory\n",
    "space, to fully utilize multiple CPU cores and achieve parallelism."
   ]
  },
  {
   "cell_type": "markdown",
   "id": "a12ee25c-fa0e-4b8c-ad3a-d0a9a42bf174",
   "metadata": {},
   "source": [
    "(Ans40)\n",
    "Multiprocessing: Uses separate memory space for each process, allowing true parallelism by using\n",
    "multiple CPU cores.\n",
    "Multithreading: Threads share the same memory space and are subject to the GIL, which can limit\n",
    "parallelism for CPU-bound tasks."
   ]
  },
  {
   "cell_type": "code",
   "execution_count": null,
   "id": "58025713-d61d-4432-b110-14153e28ee61",
   "metadata": {},
   "outputs": [],
   "source": [
    "#(Ans41)\n",
    "from multiprocessing import Process\n",
    "\n",
    "def process_function():\n",
    "    print(\"Process is running.\")\n",
    "\n",
    "process = Process(target=process_function)\n",
    "process.start()\n",
    "process.join()\n"
   ]
  },
  {
   "cell_type": "markdown",
   "id": "43ba4ca6-b03f-4c3d-815b-1a750c4196fc",
   "metadata": {},
   "source": [
    "(Ans42)\n",
    "A Pool object in the multiprocessing module manages a pool of worker processes to which jobs can\n",
    "be submitted. It allows for easy parallel execution of a function across multiple input values."
   ]
  },
  {
   "cell_type": "markdown",
   "id": "72f31450-fc68-44b4-9bc5-3fee44c78841",
   "metadata": {},
   "source": [
    "(Ans43)\n",
    "Inter-process communication (IPC) in multiprocessing refers to the mechanisms used for exchanging\n",
    "data between processes. Common IPC methods in Python include Queue, Pipe, shared memory, and\n",
    "Value/Array."
   ]
  }
 ],
 "metadata": {
  "kernelspec": {
   "display_name": "Python 3 (ipykernel)",
   "language": "python",
   "name": "python3"
  },
  "language_info": {
   "codemirror_mode": {
    "name": "ipython",
    "version": 3
   },
   "file_extension": ".py",
   "mimetype": "text/x-python",
   "name": "python",
   "nbconvert_exporter": "python",
   "pygments_lexer": "ipython3",
   "version": "3.10.0"
  }
 },
 "nbformat": 4,
 "nbformat_minor": 5
}
